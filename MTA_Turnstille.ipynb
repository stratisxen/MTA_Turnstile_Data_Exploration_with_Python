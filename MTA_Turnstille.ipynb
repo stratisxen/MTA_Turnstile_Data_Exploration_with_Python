{
 "cells": [
  {
   "cell_type": "code",
   "execution_count": 3,
   "metadata": {},
   "outputs": [],
   "source": [
    "#Import important libraries\n",
    "import pandas as pd\n",
    "import numpy as np\n",
    "import time\n",
    "from datetime import datetime\n",
    "import datetime as dt"
   ]
  },
  {
   "cell_type": "markdown",
   "metadata": {},
   "source": [
    "## Task 1: What is the total number of entries across the subway system for August 12, 2017? \n"
   ]
  },
  {
   "cell_type": "markdown",
   "metadata": {},
   "source": [
    "We import the data. In addition we create another variable named **ID** by merging the variables **unit** and **scp**. The new variable **ID** uniquely identifies turnstiles and will help us iterate across all turnstiles to perform our calculations."
   ]
  },
  {
   "cell_type": "code",
   "execution_count": 4,
   "metadata": {},
   "outputs": [],
   "source": [
    "#Import data for 2017\n",
    "data_2017=pd.read_csv('2017.csv')\n",
    "\n",
    "#Define ID variable\n",
    "data_2017['ID']=data_2017.unit+\" \"+data_2017.scp\n",
    "\n",
    "\n"
   ]
  },
  {
   "cell_type": "code",
   "execution_count": 5,
   "metadata": {},
   "outputs": [
    {
     "data": {
      "text/html": [
       "<div>\n",
       "<style scoped>\n",
       "    .dataframe tbody tr th:only-of-type {\n",
       "        vertical-align: middle;\n",
       "    }\n",
       "\n",
       "    .dataframe tbody tr th {\n",
       "        vertical-align: top;\n",
       "    }\n",
       "\n",
       "    .dataframe thead th {\n",
       "        text-align: right;\n",
       "    }\n",
       "</style>\n",
       "<table border=\"1\" class=\"dataframe\">\n",
       "  <thead>\n",
       "    <tr style=\"text-align: right;\">\n",
       "      <th></th>\n",
       "      <th>time</th>\n",
       "      <th>ca</th>\n",
       "      <th>unit</th>\n",
       "      <th>scp</th>\n",
       "      <th>station</th>\n",
       "      <th>linename</th>\n",
       "      <th>division</th>\n",
       "      <th>desc</th>\n",
       "      <th>entries</th>\n",
       "      <th>exits</th>\n",
       "      <th>ID</th>\n",
       "    </tr>\n",
       "  </thead>\n",
       "  <tbody>\n",
       "    <tr>\n",
       "      <th>0</th>\n",
       "      <td>2017-01-01 00:00:00</td>\n",
       "      <td>A002</td>\n",
       "      <td>R051</td>\n",
       "      <td>02-00-00</td>\n",
       "      <td>59 ST</td>\n",
       "      <td>NQR456W</td>\n",
       "      <td>BMT</td>\n",
       "      <td>REGULAR</td>\n",
       "      <td>5992418.0</td>\n",
       "      <td>2028543.0</td>\n",
       "      <td>R051 02-00-00</td>\n",
       "    </tr>\n",
       "    <tr>\n",
       "      <th>1</th>\n",
       "      <td>2017-01-01 00:00:00</td>\n",
       "      <td>A002</td>\n",
       "      <td>R051</td>\n",
       "      <td>02-00-01</td>\n",
       "      <td>59 ST</td>\n",
       "      <td>NQR456W</td>\n",
       "      <td>BMT</td>\n",
       "      <td>REGULAR</td>\n",
       "      <td>5475502.0</td>\n",
       "      <td>1204841.0</td>\n",
       "      <td>R051 02-00-01</td>\n",
       "    </tr>\n",
       "    <tr>\n",
       "      <th>2</th>\n",
       "      <td>2017-01-01 00:00:00</td>\n",
       "      <td>A002</td>\n",
       "      <td>R051</td>\n",
       "      <td>02-03-00</td>\n",
       "      <td>59 ST</td>\n",
       "      <td>NQR456W</td>\n",
       "      <td>BMT</td>\n",
       "      <td>REGULAR</td>\n",
       "      <td>842188.0</td>\n",
       "      <td>3132405.0</td>\n",
       "      <td>R051 02-03-00</td>\n",
       "    </tr>\n",
       "    <tr>\n",
       "      <th>3</th>\n",
       "      <td>2017-01-01 00:00:00</td>\n",
       "      <td>A002</td>\n",
       "      <td>R051</td>\n",
       "      <td>02-03-01</td>\n",
       "      <td>59 ST</td>\n",
       "      <td>NQR456W</td>\n",
       "      <td>BMT</td>\n",
       "      <td>REGULAR</td>\n",
       "      <td>123036.0</td>\n",
       "      <td>218034.0</td>\n",
       "      <td>R051 02-03-01</td>\n",
       "    </tr>\n",
       "    <tr>\n",
       "      <th>4</th>\n",
       "      <td>2017-01-01 00:00:00</td>\n",
       "      <td>A002</td>\n",
       "      <td>R051</td>\n",
       "      <td>02-03-02</td>\n",
       "      <td>59 ST</td>\n",
       "      <td>NQR456W</td>\n",
       "      <td>BMT</td>\n",
       "      <td>REGULAR</td>\n",
       "      <td>5210075.0</td>\n",
       "      <td>7206414.0</td>\n",
       "      <td>R051 02-03-02</td>\n",
       "    </tr>\n",
       "  </tbody>\n",
       "</table>\n",
       "</div>"
      ],
      "text/plain": [
       "                  time    ca  unit       scp station linename division  \\\n",
       "0  2017-01-01 00:00:00  A002  R051  02-00-00   59 ST  NQR456W      BMT   \n",
       "1  2017-01-01 00:00:00  A002  R051  02-00-01   59 ST  NQR456W      BMT   \n",
       "2  2017-01-01 00:00:00  A002  R051  02-03-00   59 ST  NQR456W      BMT   \n",
       "3  2017-01-01 00:00:00  A002  R051  02-03-01   59 ST  NQR456W      BMT   \n",
       "4  2017-01-01 00:00:00  A002  R051  02-03-02   59 ST  NQR456W      BMT   \n",
       "\n",
       "      desc    entries      exits             ID  \n",
       "0  REGULAR  5992418.0  2028543.0  R051 02-00-00  \n",
       "1  REGULAR  5475502.0  1204841.0  R051 02-00-01  \n",
       "2  REGULAR   842188.0  3132405.0  R051 02-03-00  \n",
       "3  REGULAR   123036.0   218034.0  R051 02-03-01  \n",
       "4  REGULAR  5210075.0  7206414.0  R051 02-03-02  "
      ]
     },
     "execution_count": 5,
     "metadata": {},
     "output_type": "execute_result"
    }
   ],
   "source": [
    "#Preview the first 5 rows of the 2017 data\n",
    "data_2017.head()"
   ]
  },
  {
   "cell_type": "markdown",
   "metadata": {},
   "source": [
    "Because **entries** and **exits** are reported as cumulative values we assume that there should not be a 0 entry or exit value. In addition if a turnstile has a faulty 0 entry or exit value we consider the other value (exit or entry) faulty too. Thus we remove observations with 0 entry or exit values.\n"
   ]
  },
  {
   "cell_type": "code",
   "execution_count": 6,
   "metadata": {},
   "outputs": [],
   "source": [
    "data_2017=data_2017[(data_2017.entries!=0)|(data_2017.exits!=0)]"
   ]
  },
  {
   "cell_type": "markdown",
   "metadata": {},
   "source": [
    "We transform the **time** variable to timestamp, in order to manipulate it easier."
   ]
  },
  {
   "cell_type": "code",
   "execution_count": 7,
   "metadata": {},
   "outputs": [],
   "source": [
    "data_2017.time=[datetime.strptime(x,\"%Y-%m-%d %H:%M:%S\") for x in data_2017.time ]"
   ]
  },
  {
   "cell_type": "markdown",
   "metadata": {},
   "source": [
    "We also create two other variables **TIME** and **DATE** and assign the time and date components of the variable **time**. These variables might be useful later on."
   ]
  },
  {
   "cell_type": "code",
   "execution_count": 8,
   "metadata": {},
   "outputs": [],
   "source": [
    "data_2017['DATE']=[x.date() for x in data_2017.time]\n",
    "data_2017['TIME']=[x.time() for x in data_2017.time]"
   ]
  },
  {
   "cell_type": "markdown",
   "metadata": {},
   "source": [
    "We create a dataframe with observations only from 1st of August 2017."
   ]
  },
  {
   "cell_type": "code",
   "execution_count": 10,
   "metadata": {},
   "outputs": [],
   "source": [
    "#Assign and store the required day to a new dataframe\n",
    "data_12Aug2017=data_2017[data_2017.DATE==dt.date(2017,8,12)].reset_index(drop=True)"
   ]
  },
  {
   "cell_type": "markdown",
   "metadata": {},
   "source": [
    "To calculate the total count of entries in 1st of August we make the following assumptions:\n",
    "\n",
    "• A turnstile cannot have 0 entry or exit activity. Hence between periods extries and exits must increase for each turnstile.\n",
    "\n",
    "• For each turnstile the maximum entry and exit values occur in the last observation (the latest in time). Similarly the minimum count occurs in the first observation (the earliest in time).\n",
    "\n",
    "• For each turstile we calculate the entry count by subtracting the last with the first entry observation.\n",
    "\n",
    "Any turnstile that does not fulfil the above conditions is **excluded** from the calculations."
   ]
  },
  {
   "cell_type": "code",
   "execution_count": 11,
   "metadata": {},
   "outputs": [],
   "source": [
    "count_entries=0\n",
    "#iterate across all turnstiles\n",
    "for names in data_12Aug2017.ID.unique().tolist():\n",
    "    #create a new dataframe with the unique turnstile and sort values by time\n",
    "    dummy_df=data_12Aug2017[data_12Aug2017.ID==names].sort_values(by='time').reset_index(drop=True)\n",
    "    nrows=dummy_df.shape[0]\n",
    "    # Set the required conditions\n",
    "    if (dummy_df.entries.max()>dummy_df.entries.min() \n",
    "    and dummy_df.exits.max()>dummy_df.exits.min()\n",
    "    and dummy_df.entries.iloc[0]==dummy_df.entries.min() \n",
    "    and dummy_df.entries.iloc[nrows-1]==dummy_df.entries.max()\n",
    "    and dummy_df.exits.iloc[0]==dummy_df.exits.min() \n",
    "    and dummy_df.exits.iloc[nrows-1]==dummy_df.exits.max() ):\n",
    "            tourn_entries=dummy_df.iloc[nrows-1].entries-dummy_df.iloc[0].entries\n",
    "            count_entries+=tourn_entries"
   ]
  },
  {
   "cell_type": "code",
   "execution_count": 12,
   "metadata": {},
   "outputs": [
    {
     "data": {
      "text/plain": [
       "2402303.0"
      ]
     },
     "execution_count": 12,
     "metadata": {},
     "output_type": "execute_result"
    }
   ],
   "source": [
    "count_entries"
   ]
  },
  {
   "cell_type": "markdown",
   "metadata": {},
   "source": [
    "Running the cell above we get that the total number of entries in 12th of August is 2,402,303."
   ]
  },
  {
   "cell_type": "markdown",
   "metadata": {},
   "source": [
    "## Task 2: If we define traffic as the sum of the entry & exit count, what turnstile had the most traffic on August 1, 2017? "
   ]
  },
  {
   "cell_type": "markdown",
   "metadata": {},
   "source": [
    "To answer Task 2 we use exactly the same assumptions as for Q1. For each turnstile similar to counting entries above we will count exits by taking the difference between the last and the first exit observation.\n"
   ]
  },
  {
   "cell_type": "code",
   "execution_count": 14,
   "metadata": {},
   "outputs": [],
   "source": [
    "#We create a dictionary with key the turnstile ID and value the turnstile's traffic \n",
    "tourn_traffic={}\n",
    "for names in data_12Aug2017.ID.unique().tolist():\n",
    "    dummy_df=data_12Aug2017[data_12Aug2017.ID==names].sort_values(by='time').reset_index(drop=True)\n",
    "    nrows=dummy_df.shape[0]\n",
    "    #Set conditions\n",
    "    if (dummy_df.entries.max()>dummy_df.entries.min() \n",
    "    and dummy_df.exits.max()>dummy_df.exits.min()\n",
    "    and dummy_df.entries.iloc[0]==dummy_df.entries.min() \n",
    "    and dummy_df.entries.iloc[nrows-1]==dummy_df.entries.max()):\n",
    "            tourn_entries=dummy_df.iloc[nrows-1].entries-dummy_df.iloc[0].entries\n",
    "            tourn_exits=dummy_df.iloc[nrows-1].exits-dummy_df.iloc[0].exits\n",
    "            tourn_traffic[names]=tourn_entries+tourn_exits"
   ]
  },
  {
   "cell_type": "code",
   "execution_count": 21,
   "metadata": {},
   "outputs": [
    {
     "data": {
      "text/plain": [
       "{('R301 00-00-00', 5683.0)}"
      ]
     },
     "execution_count": 21,
     "metadata": {},
     "output_type": "execute_result"
    }
   ],
   "source": [
    "#Find the turnstile with max entry\n",
    "max_value = max(tourn_traffic.values()); \n",
    "{(key,value) for key, value in tourn_traffic.items() if value == max_value}"
   ]
  },
  {
   "cell_type": "markdown",
   "metadata": {},
   "source": [
    "Running the 2 cells above we get that the turnstile with unit **R031** and scp  **00-00-00**  had the maximum traffic on August 12th 2017 with 5682 entries and exits."
   ]
  },
  {
   "cell_type": "markdown",
   "metadata": {},
   "source": [
    "## Task 3: Which station had the highest average number of traffic between midnight and 4am on Wednesdays in July 2017? "
   ]
  },
  {
   "cell_type": "markdown",
   "metadata": {},
   "source": [
    "A quick view on the calendar gives us the Wednesday dates in July 2017. These are 2017-7-5, 2017-7-12, 2017-7-19, 2017-7-26. Below we create a dataframe with observations from these dates and required time horizon (00:00:00-04:00:00)"
   ]
  },
  {
   "cell_type": "code",
   "execution_count": 24,
   "metadata": {},
   "outputs": [],
   "source": [
    "data_WedJuly=data_2017[(data_2017.DATE==dt.date(2017,7,5))|(data_2017.DATE==dt.date(2017,7,12))|(data_2017.DATE==dt.date(2017,7,19))|(data_2017.DATE==dt.date(2017,7,26))].sort_values(by='time').reset_index(drop=True)\n",
    "data_WedJuly=data_WedJuly[(data_WedJuly.TIME>=datetime.strptime(\"00:00:00\",\"%H:%M:%S\").time())&(data_WedJuly.TIME<=datetime.strptime(\"04:00:00\",\"%H:%M:%S\").time())].sort_values(by='time').reset_index(drop=True)                  "
   ]
  },
  {
   "cell_type": "markdown",
   "metadata": {},
   "source": [
    "For counting entries and exits we will follow the same recipe as in the previous questions.\n",
    "\n",
    "A station might not have observations in one of the Wednesdays (00:00:00-04:00:00). We will consider these as 0 traffic count. Thus to get averages we divide by 4 (the number of Fridays in July) and not by the number of days, where the station is active.\n",
    "\n",
    "Finally for each station, a turnstile might not be active in one of the Wednesdays. We remove such observations."
   ]
  },
  {
   "cell_type": "code",
   "execution_count": 30,
   "metadata": {},
   "outputs": [],
   "source": [
    "#We create a dictionary with key the stations and value the stations' average number of entries\n",
    "mean_traffic={}\n",
    "#Iterate across stations\n",
    "for stations in data_WedJuly.station.unique().tolist():\n",
    "    count_traffic=0.\n",
    "    df_stations=data_WedJuly[data_WedJuly.station==stations].sort_values(by='time').reset_index(drop=True)\n",
    "    #Iterate across Fridays\n",
    "    for day in df_stations.DATE.unique().tolist():\n",
    "        df_stations_day=df_stations[df_stations.DATE==day].sort_values(by='time').reset_index(drop=True)\n",
    "       #Iterate across turnstiles \n",
    "        for names in df_stations_day.ID.unique().tolist():\n",
    "            df_stations_day_names=df_stations_day[df_stations_day.ID==names].sort_values(by='time').reset_index(drop=True)\n",
    "            nrows=df_stations_day_names.shape[0]\n",
    "            #Set conditions\n",
    "            if (df_stations_day_names.entries.max()>df_stations_day_names.entries.min() \n",
    "            and df_stations_day_names.exits.max()>df_stations_day_names.exits.min()\n",
    "            #Remove inactive turnstiles\n",
    "            and nrows!=0\n",
    "            and df_stations_day_names.entries.iloc[0]==df_stations_day_names.entries.min() \n",
    "            and df_stations_day_names.entries.iloc[nrows-1]==df_stations_day_names.entries.max()\n",
    "            and df_stations_day_names.exits.iloc[0]==df_stations_day_names.exits.min() \n",
    "            and df_stations_day_names.exits.iloc[nrows-1]==df_stations_day_names.exits.max()):\n",
    "                tourn_entries=df_stations_day_names.iloc[nrows-1].entries-df_stations_day_names.iloc[0].entries\n",
    "                tourn_exits=df_stations_day_names.iloc[nrows-1].exits-df_stations_day_names.iloc[0].exits\n",
    "                tourn_traffic=tourn_entries+tourn_exits\n",
    "                count_traffic+=tourn_traffic\n",
    "                mean_traffic[stations]=count_traffic/4\n",
    "       \n",
    "                \n",
    " "
   ]
  },
  {
   "cell_type": "code",
   "execution_count": 31,
   "metadata": {},
   "outputs": [
    {
     "data": {
      "text/plain": [
       "{('TIMES SQ-42 ST', 27050.0)}"
      ]
     },
     "execution_count": 31,
     "metadata": {},
     "output_type": "execute_result"
    }
   ],
   "source": [
    "max_value = max(mean_traffic.values()); \n",
    "\n",
    "{(key,value) for key, value in mean_traffic.items() if value == max_value}"
   ]
  },
  {
   "cell_type": "markdown",
   "metadata": {},
   "source": [
    "Running the 2 cells above we get that the station **TIMES SQ-42 ST** has the highest average number of traffic (27,050) on Fridays July 2017 between 12 am and 4 am."
   ]
  },
  {
   "cell_type": "markdown",
   "metadata": {},
   "source": [
    "## Task 4: If we compare the month of July 2016 to the month of July 2017, what station saw the highest relative traffic growth? "
   ]
  },
  {
   "cell_type": "markdown",
   "metadata": {},
   "source": [
    "First we will perform the same operations as in Q1 for the 2016 data. Same conditions apply"
   ]
  },
  {
   "cell_type": "code",
   "execution_count": 25,
   "metadata": {},
   "outputs": [],
   "source": [
    "data_2016=pd.read_csv('mta-turnstile-data/2016.csv')\n",
    "data_2016['ID']=data_2016.unit+\" \"+data_2016.scp\n",
    "data_2016=data_2016[(data_2016.entries!=0)|(data_2016.exits!=0)]"
   ]
  },
  {
   "cell_type": "code",
   "execution_count": 26,
   "metadata": {},
   "outputs": [],
   "source": [
    "data_2016.time=[datetime.strptime(x,\"%Y-%m-%d %H:%M:%S\") for x in data_2016.time]\n",
    "data_2016['DATE']=[x.date() for x in data_2016.time]\n",
    "data_2016['TIME']=[x.time() for x in data_2016.time]"
   ]
  },
  {
   "cell_type": "markdown",
   "metadata": {},
   "source": [
    "We restrict the dataframes now to July"
   ]
  },
  {
   "cell_type": "code",
   "execution_count": 27,
   "metadata": {},
   "outputs": [],
   "source": [
    "data_July2016=data_2016[data_2016.time.dt.month==7]\n",
    "data_July2017=data_2017[data_2017.time.dt.month==7]"
   ]
  },
  {
   "cell_type": "markdown",
   "metadata": {},
   "source": [
    "Doing a simple data exploration we see that the number of stations in July 2016 and July 2017 are not the same (371 and 376 respectively). This warns us that some stations are not active in both periods. \n",
    "\n",
    "Hence we will choose stations that are active in both July 2016 and July 2017. "
   ]
  },
  {
   "cell_type": "code",
   "execution_count": 28,
   "metadata": {},
   "outputs": [],
   "source": [
    "#define sets with the stations\n",
    "station_set2016=set(data_July2016.station)\n",
    "station_set2017=set(data_July2017.station)\n",
    "#Pick the common stations\n",
    "common_stations=station_set2016.intersection(station_set2017)"
   ]
  },
  {
   "cell_type": "markdown",
   "metadata": {},
   "source": [
    "Running the cell above we get 368 common stations. "
   ]
  },
  {
   "cell_type": "markdown",
   "metadata": {},
   "source": [
    "In order to calculate the highest relative traffic growth, we will use the formula:\n",
    "\n",
    "• (traffic_Jul17-traffic_Jul16)/traffic_Jul16.\n",
    "\n",
    "The formula components traffic_Jul17 and traffic_Jul16 are calculated as in the previous questions.\n",
    "\n",
    "Because we compare data that are 1 year apart we want to be very careful of any malfunction leading to very inflated entry or exit values (turnstile malfunction, reset, etc.). \n",
    "\n",
    "For this reason we add an extra condition that for each turnstile between consecutive observations the entry or exit activity can not be more than 10,000.\n"
   ]
  },
  {
   "cell_type": "code",
   "execution_count": 30,
   "metadata": {},
   "outputs": [],
   "source": [
    "#We create a dictionary with key the stations and value the stations relative growth\n",
    "station_dic={}\n",
    "#iterate through common stations\n",
    "for station in common_stations:\n",
    "    total_traffic2016=0\n",
    "    total_traffic2017=0\n",
    "    dummy_df2016=data_July2016[data_July2016.station==station].sort_values(by='time').reset_index(drop=True)\n",
    "    dummy_df2017=data_July2017[data_July2017.station==station].sort_values(by='time').reset_index(drop=True)\n",
    "    #Iterate through  July 2016 tunrstiles\n",
    "    for name in dummy_df2016.ID.unique().tolist():\n",
    "        dummy_df1=dummy_df2016[dummy_df2016.ID==name].sort_values(by='time').reset_index(drop=True)\n",
    "        nrows1=dummy_df1.shape[0]\n",
    "        #Set conditions\n",
    "        if (dummy_df1.entries.max()>dummy_df1.entries.min() \n",
    "        and dummy_df1.exits.max()>dummy_df1.exits.min()\n",
    "        and all(np.abs(np.diff(list(dummy_df1.entries))) < 1e4)\n",
    "        and all(np.abs(np.diff(list(dummy_df1.exits))) < 1e4)\n",
    "        and dummy_df1.entries.iloc[0]==dummy_df1.entries.min()\n",
    "        and dummy_df1.entries.iloc[nrows1-1]==dummy_df1.entries.max()\n",
    "        and dummy_df1.exits.iloc[0]==dummy_df1.exits.min()\n",
    "        and dummy_df1.exits.iloc[nrows1-1]==dummy_df1.exits.max()):\n",
    "            tourn_entries2016=dummy_df1.iloc[nrows1-1].entries-dummy_df1.iloc[0].entries\n",
    "            tourn_exits2016=dummy_df1.iloc[nrows1-1].exits-dummy_df1.iloc[0].exits\n",
    "            total_traffic2016+=tourn_entries2016+tourn_exits2016\n",
    "        \n",
    "        \n",
    "        #Iterate through  July 2017 tunrstiles  \n",
    "    for name1 in dummy_df2017.ID.unique().tolist():\n",
    "        dummy_df2=dummy_df2017[dummy_df2017.ID==name1].sort_values(by='time').reset_index(drop=True)\n",
    "        nrows2=dummy_df2.shape[0]\n",
    "        #Set Conditions\n",
    "        if (dummy_df2.entries.max()>dummy_df2.entries.min() \n",
    "        and dummy_df2.exits.max()>dummy_df2.exits.min()\n",
    "        and all(np.abs(np.diff(list(dummy_df2.entries))) < 1e4)\n",
    "        and all(np.abs(np.diff(list(dummy_df2.exits))) < 1e4)\n",
    "        and dummy_df2.entries.iloc[0]==dummy_df2.entries.min()\n",
    "        and dummy_df2.entries.iloc[nrows2-1]==dummy_df2.entries.max()\n",
    "        and dummy_df2.exits.iloc[0]==dummy_df2.exits.min()\n",
    "        and dummy_df2.exits.iloc[nrows2-1]==dummy_df2.exits.max()):\n",
    "            tourn_entries2017=dummy_df2.iloc[nrows2-1].entries-dummy_df2.iloc[0].entries\n",
    "            tourn_exits2017=dummy_df2.iloc[nrows2-1].exits-dummy_df2.iloc[0].exits\n",
    "            total_traffic2017+=tourn_entries2017+tourn_exits2017\n",
    "            if (total_traffic2016!=0 and total_traffic2017!=0):\n",
    "                station_dic[station]=(total_traffic2017-total_traffic2016)/total_traffic2016"
   ]
  },
  {
   "cell_type": "code",
   "execution_count": 32,
   "metadata": {},
   "outputs": [
    {
     "data": {
      "text/plain": [
       "{'ST. GEORGE'}"
      ]
     },
     "execution_count": 32,
     "metadata": {},
     "output_type": "execute_result"
    }
   ],
   "source": [
    "max_value = max(station_dic.values()); \n",
    "{key for key, value in station_dic.items() if value == max_value}\n",
    "\n",
    "\n"
   ]
  },
  {
   "cell_type": "markdown",
   "metadata": {},
   "source": [
    "Running the two cells above we get that **ST. GEORGE** station had the highest relative growth. The growth was 231%."
   ]
  },
  {
   "cell_type": "markdown",
   "metadata": {},
   "source": [
    "## Task 5: From July 2016 through July 2017, what date had the least traffic? "
   ]
  },
  {
   "cell_type": "markdown",
   "metadata": {},
   "source": [
    "First we create a joint dataframe for the 2016 and 2017 data."
   ]
  },
  {
   "cell_type": "code",
   "execution_count": 33,
   "metadata": {},
   "outputs": [],
   "source": [
    "data_2016_2017=data_2016.append(data_2017).sort_values(by='time').reset_index(drop=True)"
   ]
  },
  {
   "cell_type": "markdown",
   "metadata": {},
   "source": [
    "We then restrict to the dates required, ie. from 2016/7/1 to 2017/7/31."
   ]
  },
  {
   "cell_type": "code",
   "execution_count": 34,
   "metadata": {},
   "outputs": [],
   "source": [
    "data_Jul_1617=data_2016_2017[(data_2016_2017.DATE>=datetime.strptime(\"2016-7-1\", \"%Y-%m-%d\").date())& (data_2016_2017.DATE<=datetime.strptime(\"2017-7-31\", \"%Y-%m-%d\").date())]"
   ]
  },
  {
   "cell_type": "markdown",
   "metadata": {},
   "source": [
    "We will use the same conditions as in the previous questions for the calculations."
   ]
  },
  {
   "cell_type": "code",
   "execution_count": null,
   "metadata": {},
   "outputs": [],
   "source": [
    "#We create a dictionary with key the dates and value the dates' traffic\n",
    "date_min={}\n",
    "#iterate across dates\n",
    "for date in data_Jul_1617.DATE.unique().tolist():\n",
    "    total_count=0\n",
    "    data_Jul_1617_date=data_Jul_1617[data_Jul_1617.DATE==date].sort_values(by='time').reset_index(drop=True)\n",
    "    #Iterate across turnstiles\n",
    "    for name in data_Jul_1617_date.ID.unique().tolist():\n",
    "        data_Jul_1617_date_name=data_Jul_1617_date[data_Jul_1617_date.ID==name].sort_values(by='time').reset_index(drop=True)\n",
    "        nrows=data_Jul_1617_date_name.shape[0]\n",
    "        #Set conditons\n",
    "        if (data_Jul_1617_date_name.entries.max()>data_Jul_1617_date_name.entries.min() \n",
    "        and data_Jul_1617_date_name.exits.max()>data_Jul_1617_date_name.exits.min()\n",
    "        and data_Jul_1617_date_name.entries.iloc[0]==data_Jul_1617_date_name.entries.min() \n",
    "        and data_Jul_1617_date_name.entries.iloc[nrows-1]==data_Jul_1617_date_name.entries.max()\n",
    "        and data_Jul_1617_date_name.exits.iloc[0]==data_Jul_1617_date_name.exits.min() \n",
    "        and data_Jul_1617_date_name.exits.iloc[nrows-1]==data_Jul_1617_date_name.exits.max()) :\n",
    "            tourn_entries=data_Jul_1617_date_name.entries.iloc[nrows-1]-data_Jul_1617_date_name.entries.iloc[0]\n",
    "            tourn_exits=data_Jul_1617_date_name.exits.iloc[nrows-1]-data_Jul_1617_date_name.exits.iloc[0]\n",
    "            total_count+=tourn_entries+tourn_exits\n",
    "            date_min[str(date)]=total_count\n",
    "\n",
    "        "
   ]
  },
  {
   "cell_type": "code",
   "execution_count": null,
   "metadata": {},
   "outputs": [],
   "source": [
    "min_value = min(date_min.values()); \n",
    "{key for key, value in date_min.items() if value == min_value}"
   ]
  },
  {
   "cell_type": "markdown",
   "metadata": {},
   "source": [
    "Running the two cells above we get that the date with least traffic between July 2016 and July 2017 was\n",
    "**2016-12-25**. This result makes sense since its Christmas Day and people stay home with their families or travel to their families. "
   ]
  }
 ],
 "metadata": {
  "kernelspec": {
   "display_name": "Python 3",
   "language": "python",
   "name": "python3"
  },
  "language_info": {
   "codemirror_mode": {
    "name": "ipython",
    "version": 3
   },
   "file_extension": ".py",
   "mimetype": "text/x-python",
   "name": "python",
   "nbconvert_exporter": "python",
   "pygments_lexer": "ipython3",
   "version": "3.7.0"
  }
 },
 "nbformat": 4,
 "nbformat_minor": 2
}
